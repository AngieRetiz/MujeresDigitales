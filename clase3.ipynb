{
  "nbformat": 4,
  "nbformat_minor": 0,
  "metadata": {
    "colab": {
      "name": "clase3.ipynb",
      "provenance": [],
      "authorship_tag": "ABX9TyOQRtxtDU5cRfYvdsf4DajU",
      "include_colab_link": true
    },
    "kernelspec": {
      "name": "python3",
      "display_name": "Python 3"
    },
    "language_info": {
      "name": "python"
    }
  },
  "cells": [
    {
      "cell_type": "markdown",
      "metadata": {
        "id": "view-in-github",
        "colab_type": "text"
      },
      "source": [
        "<a href=\"https://colab.research.google.com/github/AngieRetiz/MujeresDigitales/blob/main/clase3.ipynb\" target=\"_parent\"><img src=\"https://colab.research.google.com/assets/colab-badge.svg\" alt=\"Open In Colab\"/></a>"
      ]
    },
    {
      "cell_type": "markdown",
      "metadata": {
        "id": "5ek27iyA4peF"
      },
      "source": [
        "**Estructuras de condicionales(control)**\n",
        "\n",
        "---\n",
        "Al momento de construir una instruccion de tipo condicional se debera comprendeer que dichas instrucciones estan diseñadas para ayudar en la toma de decisiones:\n",
        "\n",
        "Ejemplo:\n",
        "**si** pedro va a la tienda por la izquierda llegara mas rapido,sino se demora mas.\n",
        "\n",
        "existen varios tipos de instrucciones, algunos pueden ser simples y otros multiples sin embargo solo se genera dos resultados.\n",
        "1. verdadero\n",
        "2. falso\n",
        "\n",
        "En phyton tales resultados serian true o false.\n"
      ]
    },
    {
      "cell_type": "markdown",
      "metadata": {
        "id": "SRB4IcAL6gJQ"
      },
      "source": [
        "para aplicar los condicionales que veremos a continuacion debemos recordar los comandos de operadores matematicos vistos en clase anterior:\n",
        "1. igualdad(==)// 2==7//False\n",
        "2. Diferencia(!=)//rosado=verde//true\n",
        "3. Menor que (<)//12<11//false\n",
        "4. mayor que (>)//1>1.5//False\n",
        "5. menor igual que (<=)//30<=30//true\n",
        "6. mayor o igual que(>=)// 1>=2//false"
      ]
    },
    {
      "cell_type": "markdown",
      "metadata": {
        "id": "1aHFEDMG7tqV"
      },
      "source": [
        "En condiciones multiples podemos enlazar los operadores logicos:\n",
        "1. y(and)\n",
        "2. o(or)\n",
        "3. No(no)\n",
        "\n",
        "Ejemplos:\n",
        "1. 3==8 and 8>12//false\n",
        "2. 3==3 or 15<3//True\n",
        "3. not True//False"
      ]
    },
    {
      "cell_type": "markdown",
      "metadata": {
        "id": "wxO_XV5Y9slu"
      },
      "source": [
        ""
      ]
    }
  ]
}